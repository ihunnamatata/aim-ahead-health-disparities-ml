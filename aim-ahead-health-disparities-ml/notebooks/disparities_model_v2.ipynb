{
 "cells": [
  {
   "cell_type": "markdown",
   "id": "d3e8055e",
   "metadata": {},
   "source": [
    "# AIM-AHEAD Health Disparities ML Project\n",
    "This notebook analyzes synthetic patient data to explore how race, sex, age, and vaccination status influence hospitalization and mortality outcomes among cardiovascular COVID-19 patients."
   ]
  },
  {
   "cell_type": "markdown",
   "id": "ef9a9b9a",
   "metadata": {},
   "source": [
    "## Step 1: Import Libraries"
   ]
  },
  {
   "cell_type": "code",
   "execution_count": null,
   "id": "2d0237f0",
   "metadata": {},
   "outputs": [],
   "source": [
    "import pandas as pd\n",
    "import numpy as np\n",
    "import matplotlib.pyplot as plt\n",
    "import seaborn as sns\n",
    "from sklearn.model_selection import train_test_split\n",
    "from sklearn.ensemble import RandomForestClassifier\n",
    "from sklearn.linear_model import LogisticRegression\n",
    "from sklearn.metrics import classification_report, confusion_matrix\n",
    "from imblearn.over_sampling import SMOTE\n",
    "from sklearn.preprocessing import LabelEncoder\n",
    "sns.set(style=\"whitegrid\")"
   ]
  },
  {
   "cell_type": "markdown",
   "id": "e4ab6318",
   "metadata": {},
   "source": [
    "## Step 2: Load the Dataset"
   ]
  },
  {
   "cell_type": "code",
   "execution_count": null,
   "id": "fca29af4",
   "metadata": {},
   "outputs": [],
   "source": [
    "df = pd.read_csv('../data/synthetic_cvd_covid.csv')\n",
    "df.head()"
   ]
  },
  {
   "cell_type": "markdown",
   "id": "32c985c6",
   "metadata": {},
   "source": [
    "## Step 3: Explore Distributions by Race and Mortality"
   ]
  },
  {
   "cell_type": "code",
   "execution_count": null,
   "id": "2d2b691f",
   "metadata": {},
   "outputs": [],
   "source": [
    "plt.figure(figsize=(10, 5))\n",
    "sns.countplot(x='Race', hue='Mortality', data=df)\n",
    "plt.title(\"Mortality Counts by Race\")\n",
    "plt.xticks(rotation=45)\n",
    "plt.tight_layout()\n",
    "plt.show()"
   ]
  },
  {
   "cell_type": "markdown",
   "id": "842501e5",
   "metadata": {},
   "source": [
    "## Step 4: Preprocess and Encode Data"
   ]
  },
  {
   "cell_type": "code",
   "execution_count": null,
   "id": "94285db4",
   "metadata": {},
   "outputs": [],
   "source": [
    "df_encoded = df.copy()\n",
    "for col in ['Sex', 'Race', 'VaccinationStatus']:\n",
    "    df_encoded[col] = LabelEncoder().fit_transform(df_encoded[col])\n",
    "features = ['Age', 'Sex', 'Race', 'VaccinationStatus']\n",
    "X = df_encoded[features]\n",
    "y = df_encoded['Mortality']"
   ]
  },
  {
   "cell_type": "markdown",
   "id": "85412040",
   "metadata": {},
   "source": [
    "## Step 5: Apply SMOTE to Balance Mortality Classes"
   ]
  },
  {
   "cell_type": "code",
   "execution_count": null,
   "id": "80279fe3",
   "metadata": {},
   "outputs": [],
   "source": [
    "sm = SMOTE(random_state=42)\n",
    "X_res, y_res = sm.fit_resample(X, y)\n",
    "print(\"Before SMOTE:\", y.value_counts().to_dict())\n",
    "print(\"After SMOTE:\", pd.Series(y_res).value_counts().to_dict())"
   ]
  },
  {
   "cell_type": "markdown",
   "id": "fe728b90",
   "metadata": {},
   "source": [
    "## Step 6: Train Random Forest and Logistic Regression"
   ]
  },
  {
   "cell_type": "code",
   "execution_count": null,
   "id": "8991820d",
   "metadata": {},
   "outputs": [],
   "source": [
    "X_train, X_test, y_train, y_test = train_test_split(X_res, y_res, test_size=0.3, random_state=42)\n",
    "\n",
    "rf = RandomForestClassifier(n_estimators=100, random_state=42)\n",
    "rf.fit(X_train, y_train)\n",
    "rf_preds = rf.predict(X_test)\n",
    "\n",
    "logreg = LogisticRegression(max_iter=1000)\n",
    "logreg.fit(X_train, y_train)\n",
    "log_preds = logreg.predict(X_test)"
   ]
  },
  {
   "cell_type": "markdown",
   "id": "c39c03cc",
   "metadata": {},
   "source": [
    "## Step 7: Model Evaluation"
   ]
  },
  {
   "cell_type": "code",
   "execution_count": null,
   "id": "31743c98",
   "metadata": {},
   "outputs": [],
   "source": [
    "print(\"Random Forest Report:\")\n",
    "print(classification_report(y_test, rf_preds))\n",
    "print(\"Logistic Regression Report:\")\n",
    "print(classification_report(y_test, log_preds))"
   ]
  },
  {
   "cell_type": "markdown",
   "id": "2286aa89",
   "metadata": {},
   "source": [
    "## Step 8: Feature Importance (Random Forest)"
   ]
  },
  {
   "cell_type": "code",
   "execution_count": null,
   "id": "916117b7",
   "metadata": {},
   "outputs": [],
   "source": [
    "\n",
    "importances = rf.feature_importances_\n",
    "feature_names = X.columns\n",
    "plt.figure(figsize=(8, 4))\n",
    "sns.barplot(x=importances, y=feature_names)\n",
    "plt.title(\"Random Forest Feature Importance\")\n",
    "plt.xlabel(\"Importance\")\n",
    "plt.ylabel(\"Feature\")\n",
    "plt.tight_layout()\n",
    "plt.show()\n"
   ]
  },
  {
   "cell_type": "markdown",
   "id": "a2342760",
   "metadata": {},
   "source": [
    "## Step 9: ROC Curves"
   ]
  },
  {
   "cell_type": "code",
   "execution_count": null,
   "id": "58800605",
   "metadata": {},
   "outputs": [],
   "source": [
    "\n",
    "from sklearn.metrics import roc_curve, auc\n",
    "\n",
    "rf_probs = rf.predict_proba(X_test)[:, 1]\n",
    "log_probs = logreg.predict_proba(X_test)[:, 1]\n",
    "\n",
    "rf_fpr, rf_tpr, _ = roc_curve(y_test, rf_probs)\n",
    "log_fpr, log_tpr, _ = roc_curve(y_test, log_probs)\n",
    "\n",
    "plt.figure(figsize=(8, 6))\n",
    "plt.plot(rf_fpr, rf_tpr, label=f\"Random Forest (AUC = {auc(rf_fpr, rf_tpr):.2f})\")\n",
    "plt.plot(log_fpr, log_tpr, label=f\"Logistic Regression (AUC = {auc(log_fpr, log_tpr):.2f})\")\n",
    "plt.plot([0, 1], [0, 1], linestyle='--', color='gray')\n",
    "plt.title(\"ROC Curve Comparison\")\n",
    "plt.xlabel(\"False Positive Rate\")\n",
    "plt.ylabel(\"True Positive Rate\")\n",
    "plt.legend()\n",
    "plt.grid(True)\n",
    "plt.tight_layout()\n",
    "plt.show()\n"
   ]
  }
 ],
 "metadata": {},
 "nbformat": 4,
 "nbformat_minor": 5
}
